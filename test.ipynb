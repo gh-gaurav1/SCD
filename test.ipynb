{
 "cells": [
  {
   "cell_type": "code",
   "execution_count": 1,
   "metadata": {},
   "outputs": [],
   "source": [
    "from pyspark.sql import SparkSession\n",
    "import requests"
   ]
  },
  {
   "cell_type": "code",
   "execution_count": 2,
   "metadata": {},
   "outputs": [
    {
     "name": "stderr",
     "output_type": "stream",
     "text": [
      "24/10/23 11:23:04 WARN NativeCodeLoader: Unable to load native-hadoop library for your platform... using builtin-java classes where applicable\n",
      "Setting default log level to \"WARN\".\n",
      "To adjust logging level use sc.setLogLevel(newLevel). For SparkR, use setLogLevel(newLevel).\n"
     ]
    }
   ],
   "source": [
    "spark = SparkSession.builder \\\n",
    "    .appName(\"SCD\") \\\n",
    "    .config(\"spark.jars\", \"/spark-data/scd/libs/snowflake-jdbc-3.13.14.jar,/spark-data/scd/libs/spark-snowflake_2.12-2.16.0-spark_3.4.jar\") \\\n",
    "    .getOrCreate()"
   ]
  },
  {
   "cell_type": "code",
   "execution_count": 3,
   "metadata": {},
   "outputs": [
    {
     "data": {
      "text/html": [
       "\n",
       "            <div>\n",
       "                <p><b>SparkSession - in-memory</b></p>\n",
       "                \n",
       "        <div>\n",
       "            <p><b>SparkContext</b></p>\n",
       "\n",
       "            <p><a href=\"http://e008776cdc0b:4040\">Spark UI</a></p>\n",
       "\n",
       "            <dl>\n",
       "              <dt>Version</dt>\n",
       "                <dd><code>v3.5.2</code></dd>\n",
       "              <dt>Master</dt>\n",
       "                <dd><code>local[*]</code></dd>\n",
       "              <dt>AppName</dt>\n",
       "                <dd><code>SCD</code></dd>\n",
       "            </dl>\n",
       "        </div>\n",
       "        \n",
       "            </div>\n",
       "        "
      ],
      "text/plain": [
       "<pyspark.sql.session.SparkSession at 0x7f0c6fcf79d0>"
      ]
     },
     "execution_count": 3,
     "metadata": {},
     "output_type": "execute_result"
    }
   ],
   "source": [
    "spark"
   ]
  },
  {
   "cell_type": "code",
   "execution_count": 4,
   "metadata": {},
   "outputs": [],
   "source": [
    "url = \"https://jsonplaceholder.typicode.com/posts\""
   ]
  },
  {
   "cell_type": "code",
   "execution_count": 5,
   "metadata": {},
   "outputs": [],
   "source": [
    "response = requests.get(url)"
   ]
  },
  {
   "cell_type": "code",
   "execution_count": 6,
   "metadata": {},
   "outputs": [],
   "source": [
    "if response.status_code == 200:\n",
    "    data = response.json()"
   ]
  },
  {
   "cell_type": "code",
   "execution_count": 7,
   "metadata": {},
   "outputs": [],
   "source": [
    "df = spark.createDataFrame(data)"
   ]
  },
  {
   "cell_type": "code",
   "execution_count": 8,
   "metadata": {},
   "outputs": [
    {
     "name": "stderr",
     "output_type": "stream",
     "text": [
      "                                                                                \r"
     ]
    },
    {
     "name": "stdout",
     "output_type": "stream",
     "text": [
      "+--------------------+---+--------------------+------+\n",
      "|                body| id|               title|userId|\n",
      "+--------------------+---+--------------------+------+\n",
      "|quia et suscipit\\...|  1|sunt aut facere r...|     1|\n",
      "|est rerum tempore...|  2|        qui est esse|     1|\n",
      "|et iusto sed quo ...|  3|ea molestias quas...|     1|\n",
      "|ullam et saepe re...|  4|eum et est occaecati|     1|\n",
      "|repudiandae venia...|  5|  nesciunt quas odio|     1|\n",
      "|ut aspernatur cor...|  6|dolorem eum magni...|     1|\n",
      "|dolore placeat qu...|  7|magnam facilis autem|     1|\n",
      "|dignissimos aperi...|  8|dolorem dolore es...|     1|\n",
      "|consectetur animi...|  9|nesciunt iure omn...|     1|\n",
      "|quo et expedita m...| 10|optio molestias i...|     1|\n",
      "|delectus reiciend...| 11|et ea vero quia l...|     2|\n",
      "|itaque id aut mag...| 12|in quibusdam temp...|     2|\n",
      "|aut dicta possimu...| 13|dolorum ut in vol...|     2|\n",
      "|fuga et accusamus...| 14|voluptatem eligen...|     2|\n",
      "|reprehenderit quo...| 15|eveniet quod temp...|     2|\n",
      "|suscipit nam nisi...| 16|sint suscipit per...|     2|\n",
      "|eos voluptas et a...| 17|fugit voluptas se...|     2|\n",
      "|eveniet quo quis\\...| 18|voluptate et itaq...|     2|\n",
      "|illum quis cupidi...| 19|adipisci placeat ...|     2|\n",
      "|qui consequuntur ...| 20|doloribus ad prov...|     2|\n",
      "+--------------------+---+--------------------+------+\n",
      "only showing top 20 rows\n",
      "\n"
     ]
    }
   ],
   "source": [
    "df.show()"
   ]
  },
  {
   "cell_type": "code",
   "execution_count": 9,
   "metadata": {},
   "outputs": [],
   "source": [
    "sfOptions = {\n",
    "    \"sfURL\": \"me62832.ap-southeast-1.snowflakecomputing.com\",  \n",
    "    \"sfUser\": \"KIMJONG\",                                       \n",
    "    \"sfPassword\": \"Gaurav@123\",                                \n",
    "    \"sfDatabase\": \"SCD_DATABASE\",                              \n",
    "    \"sfSchema\": \"SCD_SCHEMA\",                                  \n",
    "    \"sfWarehouse\": \"SCD_WAREHOUSE\",                            \n",
    "    \"sfRole\": \"ACCOUNTADMIN\"                                   \n",
    "}"
   ]
  },
  {
   "cell_type": "code",
   "execution_count": 10,
   "metadata": {},
   "outputs": [
    {
     "name": "stderr",
     "output_type": "stream",
     "text": [
      "24/10/23 11:23:16 WARN SnowflakeConnectorUtils$: Query pushdown is not supported because you are using Spark 3.5.2 with a connector designed to support Spark 3.4. Either use the version of Spark supported by the connector or install a version of the connector that supports your version of Spark.\n",
      "24/10/23 11:23:16 WARN ServerConnection$: JDBC 3.13.14 is being used. But the certified JDBC version 3.16.1 is recommended.\n",
      "24/10/23 11:23:26 WARN SnowflakeConnectorUtils$: Query pushdown is not supported because you are using Spark 3.5.2 with a connector designed to support Spark 3.4. Either use the version of Spark supported by the connector or install a version of the connector that supports your version of Spark.\n"
     ]
    }
   ],
   "source": [
    "df.write \\\n",
    "    .format(\"snowflake\").options(**sfOptions).option(\"dbtable\", \"SCD_TABLE\").mode(\"overwrite\").save()"
   ]
  },
  {
   "cell_type": "code",
   "execution_count": null,
   "metadata": {},
   "outputs": [],
   "source": []
  },
  {
   "cell_type": "code",
   "execution_count": 11,
   "metadata": {},
   "outputs": [
    {
     "name": "stderr",
     "output_type": "stream",
     "text": [
      "24/10/23 11:23:56 WARN SnowflakeConnectorUtils$: Query pushdown is not supported because you are using Spark 3.5.2 with a connector designed to support Spark 3.4. Either use the version of Spark supported by the connector or install a version of the connector that supports your version of Spark.\n"
     ]
    }
   ],
   "source": [
    "# Reading the table from Snowflake into a PySpark DataFrame\n",
    "df_snowflake = spark.read \\\n",
    "    .format(\"snowflake\") \\\n",
    "    .options(**sfOptions) \\\n",
    "    .option(\"dbtable\", \"SCD_TABLE\") \\\n",
    "    .load()"
   ]
  },
  {
   "cell_type": "code",
   "execution_count": 12,
   "metadata": {},
   "outputs": [
    {
     "name": "stdout",
     "output_type": "stream",
     "text": [
      "+--------------------+---+--------------------+------+\n",
      "|                BODY| ID|               TITLE|USERID|\n",
      "+--------------------+---+--------------------+------+\n",
      "|consectetur animi...|  9|nesciunt iure omn...|     1|\n",
      "|quo et expedita m...| 10|optio molestias i...|     1|\n",
      "|delectus reiciend...| 11|et ea vero quia l...|     2|\n",
      "|itaque id aut mag...| 12|in quibusdam temp...|     2|\n",
      "|aut dicta possimu...| 13|dolorum ut in vol...|     2|\n",
      "|fuga et accusamus...| 14|voluptatem eligen...|     2|\n",
      "|reprehenderit quo...| 15|eveniet quod temp...|     2|\n",
      "|suscipit nam nisi...| 16|sint suscipit per...|     2|\n",
      "|repellat aut aper...| 89|sint soluta et ve...|     9|\n",
      "|minus omnis solut...| 90|ad iusto omnis od...|     9|\n",
      "|libero voluptate ...| 91|        aut amet sed|    10|\n",
      "|aut et excepturi ...| 92|ratione ex tenetu...|    10|\n",
      "|dolorem quibusdam...| 93|beatae soluta rec...|    10|\n",
      "|aspernatur expedi...| 94|qui qui voluptate...|    10|\n",
      "|earum voluptatem ...| 95|id minus libero i...|    10|\n",
      "|in non odio excep...| 96|quaerat velit ven...|    10|\n",
      "|eum non blanditii...| 97|quas fugiat ut pe...|    10|\n",
      "|doloremque ex fac...| 98|laboriosam dolor ...|    10|\n",
      "|quo deleniti prae...| 99|temporibus sit al...|    10|\n",
      "|cupiditate quo es...|100|at nam consequatu...|    10|\n",
      "+--------------------+---+--------------------+------+\n",
      "only showing top 20 rows\n",
      "\n"
     ]
    }
   ],
   "source": [
    "# Show the data retrieved from Snowflake\n",
    "df_snowflake.show()"
   ]
  }
 ],
 "metadata": {
  "kernelspec": {
   "display_name": "Python 3",
   "language": "python",
   "name": "python3"
  },
  "language_info": {
   "codemirror_mode": {
    "name": "ipython",
    "version": 3
   },
   "file_extension": ".py",
   "mimetype": "text/x-python",
   "name": "python",
   "nbconvert_exporter": "python",
   "pygments_lexer": "ipython3",
   "version": "3.11.9"
  }
 },
 "nbformat": 4,
 "nbformat_minor": 2
}
